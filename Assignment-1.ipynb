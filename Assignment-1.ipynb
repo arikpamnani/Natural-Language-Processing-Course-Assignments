{
 "cells": [
  {
   "cell_type": "code",
   "execution_count": 34,
   "metadata": {
    "collapsed": true
   },
   "outputs": [],
   "source": [
    "import math\n",
    "import random\n",
    "import urllib2\n",
    "from nltk import word_tokenize\n",
    "import matplotlib.pyplot as plt\n",
    "from scipy.optimize import curve_fit\n",
    "\n",
    "def heaps_func(token_size, K, beta):\n",
    "        return K * token_size ** beta\n",
    "\n",
    "class Solve:\n",
    "    def __init__(self, DATA_URL):\n",
    "        self.data = urllib2.urlopen(DATA_URL).read().decode('utf-8') \n",
    "        \n",
    "    def clean_data(self):\n",
    "        start_text = \"THE ADVENTURES OF TOM SAWYER\"\n",
    "        end_text = \"*** END OF THIS PROJECT GUTENBERG EBOOK TOM SAWYER ***\"\n",
    "        \n",
    "        self.data = self.data[self.data.index(start_text):self.data.index(end_text)]\n",
    "        \n",
    "    def get_tokens(self):\n",
    "        tokens = word_tokenize(self.data)\n",
    "        return tokens\n",
    "    \n",
    "    def get_types(self):\n",
    "        tokens = self.get_tokens()\n",
    "        return list(set(tokens))\n",
    "            \n",
    "    def get_TTR(self):\n",
    "        num_types = len(self.get_types())\n",
    "        num_tokens = len(self.get_tokens())\n",
    "        return float(num_types)/float(num_tokens)\n",
    "    \n",
    "    def create_freq_dict(self):\n",
    "        self.freq_dict = {}\n",
    "        tokens = self.get_tokens()\n",
    "        for word in tokens:\n",
    "            if(word not in self.freq_dict):\n",
    "                self.freq_dict[word] = 0\n",
    "            self.freq_dict[word] += 1\n",
    "    \n",
    "    def plot_zipf_length(self):\n",
    "        y = []\n",
    "        outliers = []\n",
    "        for word in self.freq_dict:\n",
    "            y.append(len(word) * self.freq_dict[word])\n",
    "            if(len(word) * self.freq_dict[word] > 2000):\n",
    "                outliers.append(word)\n",
    "        \n",
    "        print \"Words which do not follow Zipf's law: \"\n",
    "        for ind in range(len(outliers)):\n",
    "            print (\"    %d %s\" % (ind+1, outliers[ind]))\n",
    "        \n",
    "        plt.plot(range(len(self.freq_dict)), y, '.')\n",
    "        plt.xlabel(\"Word index\")\n",
    "        plt.ylabel(\"Word length x Word frequency\")\n",
    "        plt.show()\n",
    "        \n",
    "    def plot_zipf_meaning(self, DICTIONARY_PATH):\n",
    "        all_words = open(DICTIONARY_PATH).read().decode('utf-8').split()\n",
    "        y = []\n",
    "        outliers = []\n",
    "        random_keys = random.sample(self.freq_dict.keys(), 200)\n",
    "        for word in random_keys:\n",
    "            y.append(all_words.count(word.upper())/math.sqrt(self.freq_dict[word]))\n",
    "            if(all_words.count(word.upper())/math.sqrt(self.freq_dict[word]) > 25):\n",
    "                outliers.append(word)\n",
    "        \n",
    "        print \"Words which do not follow Zipf's law: \"\n",
    "        for ind in range(len(outliers)):\n",
    "            print (\"    %d %s\" % (ind+1, outliers[ind]))\n",
    "                \n",
    "        plt.plot(range(200), y, '.')\n",
    "        plt.xlabel(\"Word index\")\n",
    "        plt.ylabel(\"Word meanings / sqrt(Word frequency)\")\n",
    "        plt.show()\n",
    "        \n",
    "    def plot_heaps(self):\n",
    "        vocabulary = set([])\n",
    "        tokens = self.get_tokens()\n",
    "        y = []\n",
    "        for word in tokens:\n",
    "            vocabulary.add(word)\n",
    "            y.append(len(vocabulary))\n",
    "            \n",
    "        opt_vals, opt_curve = curve_fit(heaps_func, range(len(tokens)), y)\n",
    "        print \"\\nCurve fitting parameters: \"\n",
    "        print \"    K: \" + str(opt_vals[0]) + \"\\n    Beta: \" + str(opt_vals[1]) \n",
    "            \n",
    "        plt.plot(range(len(tokens)), y, 'y.')\n",
    "        plt.plot(range(len(tokens)), heaps_func(range(len(tokens)), opt_vals[0], opt_vals[1]), 'r--')\n",
    "        plt.xlabel(\"Words in collection\")\n",
    "        plt.ylabel(\"Words in vocabulary\")\n",
    "        plt.show()\n",
    "    \n",
    "solve = Solve(\"http://www.gutenberg.org/files/74/74-0.txt\")\n",
    "solve.clean_data()\n",
    "solve.create_freq_dict()"
   ]
  },
  {
   "cell_type": "code",
   "execution_count": 19,
   "metadata": {},
   "outputs": [
    {
     "name": "stdout",
     "output_type": "stream",
     "text": [
      "Tokens: 87888\n"
     ]
    }
   ],
   "source": [
    "print \"Tokens: \" + str(len(solve.get_tokens()))"
   ]
  },
  {
   "cell_type": "code",
   "execution_count": 20,
   "metadata": {},
   "outputs": [
    {
     "name": "stdout",
     "output_type": "stream",
     "text": [
      "Types: 8771\n"
     ]
    }
   ],
   "source": [
    "print \"Types: \" + str(len(solve.get_types()))"
   ]
  },
  {
   "cell_type": "code",
   "execution_count": 21,
   "metadata": {},
   "outputs": [
    {
     "name": "stdout",
     "output_type": "stream",
     "text": [
      "TTR: 0.0997974695066\n"
     ]
    }
   ],
   "source": [
    "print \"TTR: \" + str(solve.get_TTR())"
   ]
  },
  {
   "cell_type": "code",
   "execution_count": 22,
   "metadata": {},
   "outputs": [
    {
     "name": "stdout",
     "output_type": "stream",
     "text": [
      "Zipf's plot for length: \n",
      "Words which do not follow Zipf's law: \n",
      "    1 and\n",
      "    2 with\n",
      "    3 to\n",
      "    4 you\n",
      "    5 the\n",
      "    6 was\n",
      "    7 that\n",
      "    8 .\n",
      "    9 ,\n",
      "    10 it\n",
      "    11 of\n",
      "    12 Tom\n",
      "    13 his\n"
     ]
    },
    {
     "data": {
      "image/png": "[encoded data removed]",
      "text/plain": [
       "<matplotlib.figure.Figure at 0xad02fb0c>"
      ]
     },
     "metadata": {},
     "output_type": "display_data"
    }
   ],
   "source": [
    "print \"Zipf's plot for length: \"\n",
    "solve.plot_zipf_length()"
   ]
  },
  {
   "cell_type": "markdown",
   "metadata": {},
   "source": [
    "1. When does Zipf's law hold - Zipf's law holds true for words that are not very common in the text.\n",
    "2. When does Zipf's law not hold - Zipf's law does not hold good for very commonly occuring words such as - \n",
    "   \"and\", \"with\", \"you\", \"Tom\". These words have very high frequency within the text."
   ]
  },
  {
   "cell_type": "code",
   "execution_count": 38,
   "metadata": {},
   "outputs": [
    {
     "name": "stdout",
     "output_type": "stream",
     "text": [
      "Words which do not follow Zipf's law: \n",
      "    1 o\n"
     ]
    },
    {
     "data": {
      "image/png": "[encoded data removed]",
      "text/plain": [
       "<matplotlib.figure.Figure at 0x91f63eac>"
      ]
     },
     "metadata": {},
     "output_type": "display_data"
    }
   ],
   "source": [
    "solve.plot_zipf_meaning(\"dictionary.txt\")"
   ]
  },
  {
   "cell_type": "code",
   "execution_count": 35,
   "metadata": {},
   "outputs": [
    {
     "name": "stdout",
     "output_type": "stream",
     "text": [
      "Heaps' plot: \n",
      "\n",
      "Curve fitting parameters: \n",
      "    K: 13.005099911310241\n",
      "    Beta: 0.5740879381857268\n"
     ]
    },
    {
     "data": {
      "image/png": "[encoded data removed]",
      "text/plain": [
       "<matplotlib.figure.Figure at 0xb5e6054c>"
      ]
     },
     "metadata": {},
     "output_type": "display_data"
    }
   ],
   "source": [
    "print \"Heaps' plot: \"\n",
    "solve.plot_heaps()"
   ]
  },
  {
   "cell_type": "markdown",
   "metadata": {},
   "source": [
    "References - \n",
    "1. Curve fitting using Scipy - https://docs.scipy.org/doc/scipy-0.19.0/reference/generated/scipy.optimize.curve_fit.html\n",
    "2. Zipf's plot for meaning dicussed with Rajat Goel"
   ]
  }
 ],
 "metadata": {
  "kernelspec": {
   "display_name": "Python 2",
   "language": "python",
   "name": "python2"
  },
  "language_info": {
   "codemirror_mode": {
    "name": "ipython",
    "version": 2
   },
   "file_extension": ".py",
   "mimetype": "text/x-python",
   "name": "python",
   "nbconvert_exporter": "python",
   "pygments_lexer": "ipython2",
   "version": "2.7.14"
  }
 },
 "nbformat": 4,
 "nbformat_minor": 2
}
